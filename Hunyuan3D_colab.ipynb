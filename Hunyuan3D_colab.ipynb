{
 "cells": [
  {
   "cell_type": "markdown",
   "id": "07c8d758",
   "metadata": {},
   "source": [
    "## Hunyuan3D 2.1 Colab Setup\n",
    "This notebook installs dependencies for [Hunyuan3D-2.1](https://github.com/Tencent-Hunyuan/Hunyuan3D-2.1) and launches the Gradio demo."
   ]
  },
  {
   "cell_type": "code",
   "execution_count": null,
   "id": "a0d63a90",
   "metadata": {},
   "outputs": [],
   "source": [
    "!sudo apt-get update -y\n",
    "!sudo apt-get install -y python3.10 python3.10-distutils python3.10-venv\n",
    "!sudo update-alternatives --install /usr/bin/python3 python3 /usr/bin/python3.10 2\n",
    "!python3 --version"
   ]
  },
  {
   "cell_type": "code",
   "execution_count": null,
   "id": "74b3abc2",
   "metadata": {},
   "outputs": [],
   "source": [
    "!git clone https://github.com/Tencent-Hunyuan/Hunyuan3D-2.1.git\n",
    "%cd Hunyuan3D-2.1"
   ]
  },
  {
   "cell_type": "code",
   "execution_count": null,
   "id": "6be415ba",
   "metadata": {},
   "outputs": [],
   "source": [
    "!pip install torch==2.5.1 torchvision==0.20.1 torchaudio==2.5.1 --index-url https://download.pytorch.org/whl/cu124\n",
    "!pip install -r requirements.txt"
   ]
  },
  {
   "cell_type": "code",
   "execution_count": null,
   "id": "8f5f17a6",
   "metadata": {},
   "outputs": [],
   "source": [
    "%cd hy3dpaint/custom_rasterizer\n",
    "!pip install -e .\n",
    "%cd ../..\n",
    "%cd hy3dpaint/DifferentiableRenderer\n",
    "!bash compile_mesh_painter.sh\n",
    "%cd ../.."
   ]
  },
  {
   "cell_type": "code",
   "execution_count": null,
   "id": "1ddb5d22",
   "metadata": {},
   "outputs": [],
   "source": [
    "!python gradio_app.py --model_path tencent/Hunyuan3D-2.1 --subfolder hunyuan3d-dit-v2-1 --texgen_model_path tencent/Hunyuan3D-2.1 --low_vram_mode --share=True"
   ]
  }
 ],
 "metadata": {},
 "nbformat": 4,
 "nbformat_minor": 5
}
